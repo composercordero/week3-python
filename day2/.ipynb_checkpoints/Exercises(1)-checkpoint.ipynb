{
 "cells": [
  {
   "cell_type": "markdown",
   "metadata": {},
   "source": [
    "#### Exercise 1 - Class Inheritance"
   ]
  },
  {
   "cell_type": "markdown",
   "metadata": {},
   "source": [
    "Create an Employee class that sets an employee's first name, last name, job title, salary, and email. The Employee class should have a class attribute for the raise amount set to 5% (1.05). Create a method that will apply the raise to an employee's salary."
   ]
  },
  {
   "cell_type": "code",
   "execution_count": 139,
   "metadata": {},
   "outputs": [],
   "source": [
    "class Employee():\n",
    "    raise_amount = 1.05 \n",
    "        \n",
    "    def __init__(self, first, last, job, salary):\n",
    "        self.first = first\n",
    "        self.last = last\n",
    "        self.job = job\n",
    "        self.salary = salary\n",
    "        self.email = f\"{self.first.lower()}.{self.last.lower()}@TAWS.com\"\n",
    "        print(f\"\"\"Welcome to That Annoying Wine Shop, {self}! \n",
    "Your work email is {self.email}\n",
    "You will be on {self.job} and your starting salary is ${self.salary}.\"\"\")\n",
    "        \n",
    "    def __str__(self):\n",
    "        return f\"{self.first} {self.last}\"\n",
    "\n",
    "    def __repr__(self):\n",
    "        return f\"< Employee | {self} >\"\n",
    "    \n",
    "    def apply_raise(self):\n",
    "        self.salary = int(self.salary * self.raise_amount)\n",
    "        return f\"${'{:,}'.format(self.salary).replace(',','.')}\""
   ]
  },
  {
   "cell_type": "markdown",
   "metadata": {},
   "source": [
    "Create two more classes that inherit from the Employee class. One for Sales and one for Development. Both of these classes will have the same attributes as the Employee.<br>\n",
    "- For the Sales employees, add a phone number attribute on instantiation using the super method. \n",
    "- Create a method on the Sales class that will Send a Follow Up Email. It should take in a customer name and \"send\" aka print a formatted email \"Dear *customer*, Thank you for your interest in our product. Please let me know if you have any questions. My email is *email* or my phone number is *phone number*. Thanks, *full name*\"\n",
    "- Create a method on the Development class called code that will print out \"*full name* is writing code\"."
   ]
  },
  {
   "cell_type": "code",
   "execution_count": 141,
   "metadata": {},
   "outputs": [],
   "source": [
    "class Sales_Emp(Employee):\n",
    "    \n",
    "    def __init__(self, first, last, job, salary, phone):\n",
    "        super().__init__(first, last, job, salary)\n",
    "        self.phone = phone\n",
    "        \n",
    "    def follow_up_email(self, customer):\n",
    "        print(f\"\"\"\n",
    "        Dear {customer},\n",
    "        Thank you for your interest in our product. Please let me know if you have any questions. \n",
    "        My email is {self.email} or my phone number is {self.phone}. \n",
    "        Thanks, {self}\"\n",
    "        \"\"\")\n",
    "\n",
    "class Development_Emp(Employee):\n",
    "       \n",
    "    def code(self):\n",
    "        print(f\"{self} is writing code\")"
   ]
  },
  {
   "cell_type": "markdown",
   "metadata": {},
   "source": [
    "- Create an instance of a Sales Employee with a salary of $50,000.\n",
    "- Send follow up emails to \"Mike O'Neil\" and \"Hannah Stern\"\n",
    "- Give the employee a raise and print the salary"
   ]
  },
  {
   "cell_type": "code",
   "execution_count": 145,
   "metadata": {},
   "outputs": [
    {
     "name": "stdout",
     "output_type": "stream",
     "text": [
      "Welcome to That Annoying Wine Shop, Rick Grimes! \n",
      "Your work email is rick.grimes@TAWS.com\n",
      "You will be on Sales and your starting salary is $50000.\n",
      "Rick Grimes\n",
      "\n",
      "        Dear Mike O'Neil,\n",
      "        Thank you for your interest in our product. Please let me know if you have any questions. \n",
      "        My email is rick.grimes@TAWS.com or my phone number is 123 425 5454. \n",
      "        Thanks, Rick Grimes\"\n",
      "        \n",
      "\n",
      "        Dear Hannah Stern,\n",
      "        Thank you for your interest in our product. Please let me know if you have any questions. \n",
      "        My email is rick.grimes@TAWS.com or my phone number is 123 425 5454. \n",
      "        Thanks, Rick Grimes\"\n",
      "        \n",
      "Rick Grimes starting salary was $50.000\n",
      "Rick Grimes new salary after a 5% raise is $52.500\n"
     ]
    }
   ],
   "source": [
    "emp1 = Sales_Emp('Rick', 'Grimes', 'Sales', 50000, '123 425 5454')\n",
    "\n",
    "print(emp1)\n",
    "emp1\n",
    "\n",
    "emp1.follow_up_email(\"Mike O'Neil\")\n",
    "emp1.follow_up_email(\"Hannah Stern\")\n",
    "\n",
    "print(f\"{emp1} starting salary was ${'{:,}'.format(emp1.salary).replace(',','.')}\")\n",
    "emp1.apply_raise()\n",
    "print(f\"{emp1} new salary after a 5% raise is ${'{:,}'.format(emp1.salary).replace(',','.')}\")"
   ]
  },
  {
   "cell_type": "markdown",
   "metadata": {},
   "source": [
    "- Create an instance of a Development Employee with a salary of $100,000\n",
    "- Write some code with this employee\n",
    "- Give the employee a raise and print the salary"
   ]
  },
  {
   "cell_type": "code",
   "execution_count": 156,
   "metadata": {},
   "outputs": [
    {
     "name": "stdout",
     "output_type": "stream",
     "text": [
      "Welcome to That Annoying Wine Shop, Glenn Rhee! \n",
      "Your work email is glenn.rhee@TAWS.com\n",
      "You will be on Development and your starting salary is $100000.\n",
      "--------------------------------------------------\n",
      "Glenn Rhee is writing code\n",
      "--------------------------------------------------\n",
      "Glenn got a salary because he wrote code today!\n",
      "--------------------------------------------------\n",
      "Glenn Rhee starting salary was $100.000\n",
      "Glenn Rhee new salary after a 5% raise is $105.000\n"
     ]
    }
   ],
   "source": [
    "emp2 = Development_Emp('Glenn', 'Rhee', 'Development', 100000)\n",
    "print('-'*50)\n",
    "emp2.code()\n",
    "print('-'*50)\n",
    "print(f'{emp2.first} got a salary because he wrote code today!')\n",
    "print('-'*50)\n",
    "print(f\"{emp2} starting salary was ${'{:,}'.format(emp2.salary).replace(',','.')}\")\n",
    "emp2.apply_raise()\n",
    "print(f\"{emp2} new salary after a 5% raise is ${'{:,}'.format(emp2.salary).replace(',','.')}\")"
   ]
  },
  {
   "cell_type": "markdown",
   "metadata": {},
   "source": [
    "#### Exercise 2 - Importing Modules"
   ]
  },
  {
   "cell_type": "markdown",
   "metadata": {},
   "source": [
    "In VS Code, create a module titled `geometry` and add two functions in there. One that will calculate the area of a circle given a radius. The second will find the hypotenuse of a right angle given the two sides. Import the module or the functions from the module and use it to find the answers to the below questions"
   ]
  },
  {
   "cell_type": "markdown",
   "metadata": {},
   "source": [
    "What is the area of a circle with a radius of 7cm?"
   ]
  },
  {
   "cell_type": "code",
   "execution_count": 162,
   "metadata": {},
   "outputs": [
    {
     "ename": "AttributeError",
     "evalue": "module 'geometry' has no attribute 'get_area'",
     "output_type": "error",
     "traceback": [
      "\u001b[0;31m---------------------------------------------------------------------------\u001b[0m",
      "\u001b[0;31mAttributeError\u001b[0m                            Traceback (most recent call last)",
      "Cell \u001b[0;32mIn[162], line 3\u001b[0m\n\u001b[1;32m      1\u001b[0m \u001b[38;5;28;01mimport\u001b[39;00m \u001b[38;5;21;01mgeometry\u001b[39;00m\n\u001b[0;32m----> 3\u001b[0m \u001b[38;5;28mprint\u001b[39m(\u001b[43mgeometry\u001b[49m\u001b[38;5;241;43m.\u001b[39;49m\u001b[43mget_area\u001b[49m(\u001b[38;5;241m7\u001b[39m))\n",
      "\u001b[0;31mAttributeError\u001b[0m: module 'geometry' has no attribute 'get_area'"
     ]
    }
   ],
   "source": [
    "import geometry\n",
    "\n",
    "print(geometry.get_area(7))"
   ]
  },
  {
   "cell_type": "markdown",
   "metadata": {},
   "source": [
    "What is the hypotenuse of a right angle with sides of 3in and 4in?"
   ]
  },
  {
   "cell_type": "code",
   "execution_count": 161,
   "metadata": {},
   "outputs": [
    {
     "ename": "AttributeError",
     "evalue": "module 'geometry' has no attribute 'get_hypotenuse'",
     "output_type": "error",
     "traceback": [
      "\u001b[0;31m---------------------------------------------------------------------------\u001b[0m",
      "\u001b[0;31mAttributeError\u001b[0m                            Traceback (most recent call last)",
      "Cell \u001b[0;32mIn[161], line 3\u001b[0m\n\u001b[1;32m      1\u001b[0m \u001b[38;5;28;01mimport\u001b[39;00m \u001b[38;5;21;01mgeometry\u001b[39;00m\n\u001b[0;32m----> 3\u001b[0m \u001b[38;5;28mprint\u001b[39m(\u001b[43mgeometry\u001b[49m\u001b[38;5;241;43m.\u001b[39;49m\u001b[43mget_hypotenuse\u001b[49m(\u001b[38;5;241m3\u001b[39m,\u001b[38;5;241m4\u001b[39m))\n",
      "\u001b[0;31mAttributeError\u001b[0m: module 'geometry' has no attribute 'get_hypotenuse'"
     ]
    }
   ],
   "source": [
    "import geometry\n",
    "\n",
    "print(geometry.get_hypotenuse(3,4))"
   ]
  }
 ],
 "metadata": {
  "kernelspec": {
   "display_name": "Python 3 (ipykernel)",
   "language": "python",
   "name": "python3"
  },
  "language_info": {
   "codemirror_mode": {
    "name": "ipython",
    "version": 3
   },
   "file_extension": ".py",
   "mimetype": "text/x-python",
   "name": "python",
   "nbconvert_exporter": "python",
   "pygments_lexer": "ipython3",
   "version": "3.10.9"
  }
 },
 "nbformat": 4,
 "nbformat_minor": 4
}
