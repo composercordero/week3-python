{
 "cells": [
  {
   "cell_type": "markdown",
   "metadata": {},
   "source": [
    "## Python Blackjack\n",
    "For this project you will make a Blackjack game using Python. Click <a href=\"http://www.hitorstand.net/strategy.php\">here</a> to familiarize yourself with the the rules of the game. You won't be implementing every rule \"down to the letter\" with the game, but we will doing a simpler version of the game. This assignment will be given to further test your knowledge on object-oriented programming concepts.\n",
    "\n",
    "### Rules:\n",
    "\n",
    "`1. ` The game will have two players: the Dealer and the Player. The game will start off with a deck of 52 cards. The 52 cards will consist of 4 different suits: Clubs, Diamonds, Hearts and Spades. For each suit, there will be cards numbered 1 through 13. <br>\n",
    "**Note: No wildcards will be used in the program**\n",
    "\n",
    "`2. ` When the game begins, the dealer will shuffle the deck of cards, making them randomized. After the dealer shuffles, it will deal the player 2 cards and will deal itself 2 cards from. The Player should be able to see both of their own cards, but should only be able to see one of the Dealer's cards.\n",
    " \n",
    "`3. ` The objective of the game is for the Player to count their cards after they're dealt. If they're not satisfied with the number, they have the ability to 'Hit'. A hit allows the dealer to deal the Player one additional card. The Player can hit as many times as they'd like as long as they don't 'Bust'. A bust is when the Player is dealt cards that total more than 21.\n",
    "\n",
    "`4. ` If the dealer deals the Player cards equal to 21 on the **first** deal, the Player wins. This is referred to as Blackjack. Blackjack is **NOT** the same as getting cards that equal up to 21 after the first deal. Blackjack can only be attained on the first deal.\n",
    "\n",
    "`5. ` The Player will never see the Dealer's hand until the Player chooses to 'stand'. A Stand is when the player tells the dealer to not deal it anymore cards. Once the player chooses to Stand, the Player and the Dealer will compare their hands. Whoever has the higher number wins. Keep in mind that the Dealer can also bust. "
   ]
  },
  {
   "cell_type": "code",
   "execution_count": null,
   "metadata": {
    "scrolled": true
   },
   "outputs": [],
   "source": [
    "class BlackJack():\n",
    "    pass\n",
    "\n",
    "    def __init__(self, name,deck = 52)\n",
    "        self.name = name\n",
    "        self.deck = deck\n",
    "        self.stand = 'on'\n",
    "        print(f'Welcome to That Annoying Wine Shop Casino, {self}!')\n",
    "    \n",
    "    def game_status(self):\n",
    "        if sum(Player.hand) == 21:\n",
    "            print(f'BlackJack!')\n",
    "            \n",
    "    def shuffle_cards(self,cards):\n",
    "        pass\n",
    "        #self.deal_cards(shuffled_cards)\n",
    "    \n",
    "    def deal_cards(self):\n",
    "        # take a card from the shuffled_cards\n",
    "        # \n",
    "        pass\n",
    "        \n",
    "\n",
    "class Dealer():\n",
    "\n",
    "    def __init__(self):\n",
    "        self.hand = 0\n",
    "        self.money = 100\n",
    "    \n",
    "    def __str__(self):\n",
    "        return {f'The house\\'s hand is {self.hand}'}\n",
    "    \n",
    "    def __repr__(self):\n",
    "        pass\n",
    "    \n",
    "class Player(Dealer):\n",
    "    \n",
    "    def __init__(self,name):\n",
    "        super().__init__()\n",
    "        self.name = name\n",
    "        \n",
    "    def __str__(self, name):\n",
    "        return {f'Your hand is {self.hand}'}\n",
    "    \n",
    "    def __repr__(self):\n",
    "        return (f'< Player | {self.name} >')\n",
    "\n",
    "def main():\n",
    "    name = input('What is your name? ')\n",
    "    blackjack = BlackJack(name)\n",
    "    user1 = Player()\n",
    "    bet = input(f'How much would you like to bet, {self}?')\n",
    "    Player.money -= bet\n",
    "    \n",
    "    action = input('Would you like to \\\n",
    "    \\n\\t1. hit\\\n",
    "    \\n\\t2. stand\\\n",
    "    \\n\\t3. double down\\\n",
    "    \\n\\t4. Insurance\\\n",
    "    \\n\\t5. Split?: ').lower()\n",
    "    while action not in {'1','hit', '2', 'stand'}:\n",
    "        action = input('Select a valid option. So, hit or stand? ').lower()\n",
    "    \n",
    "    if action == 'hit':\n",
    "        BlackJack.deal()\n",
    "    elif action == 'stand'\n",
    "        BlackJack.dealer_show()\n",
    "    elif action == 'double':\n",
    "        BlackJack.double\n",
    "    \n",
    "\n",
    "    "
   ]
  },
  {
   "cell_type": "code",
   "execution_count": null,
   "metadata": {},
   "outputs": [],
   "source": [
    "\n",
    "    The goal of blackjack is to beat the dealer's hand without going over 21.\n",
    "    Face cards are worth 10. Aces are worth 1 or 11, whichever makes a better hand.\n",
    "    Each player starts with two cards, one of the dealer's cards is hidden until the end.\n",
    "    To 'Hit' is to ask for another card. To 'Stand' is to hold your total and end your turn.\n",
    "    If you go over 21 you bust, and the dealer wins regardless of the dealer's hand.\n",
    "    If you are dealt 21 from the start (Ace & 10), you got a blackjack.\n",
    "    Blackjack usually means you win 1.5 the amount of your bet. Depends on the casino.\n",
    "    Dealer will hit until his/her cards total 17 or higher.\n",
    "    Doubling is like a hit, only the bet is doubled and you only get one more card.\n",
    "    Split can be done when you have two of the same card - the pair is split into two hands.\n",
    "    Splitting also doubles the bet, because each new hand is worth the original bet.\n",
    "    You can only double/split on the first move, or first move of a hand created by a split.\n",
    "    You cannot play on two aces after they are split.\n",
    "    You can double on a hand resulting from a split, tripling or quadrupling you bet.\n"
   ]
  },
  {
   "cell_type": "code",
   "execution_count": 5,
   "metadata": {},
   "outputs": [
    {
     "name": "stdout",
     "output_type": "stream",
     "text": [
      "False\n"
     ]
    }
   ],
   "source": []
  },
  {
   "cell_type": "code",
   "execution_count": null,
   "metadata": {},
   "outputs": [],
   "source": []
  }
 ],
 "metadata": {
  "kernelspec": {
   "display_name": "Python 3 (ipykernel)",
   "language": "python",
   "name": "python3"
  },
  "language_info": {
   "codemirror_mode": {
    "name": "ipython",
    "version": 3
   },
   "file_extension": ".py",
   "mimetype": "text/x-python",
   "name": "python",
   "nbconvert_exporter": "python",
   "pygments_lexer": "ipython3",
   "version": "3.10.9"
  }
 },
 "nbformat": 4,
 "nbformat_minor": 2
}
