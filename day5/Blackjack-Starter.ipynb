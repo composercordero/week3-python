{
 "cells": [
  {
   "cell_type": "markdown",
   "metadata": {},
   "source": [
    "## Python Blackjack\n",
    "For this project you will make a Blackjack game using Python. Click <a href=\"http://www.hitorstand.net/strategy.php\">here</a> to familiarize yourself with the the rules of the game. You won't be implementing every rule \"down to the letter\" with the game, but we will doing a simpler version of the game. This assignment will be given to further test your knowledge on object-oriented programming concepts.\n",
    "\n",
    "### Rules:\n",
    "\n",
    "`1. ` The game will have two players: the Dealer and the Player. The game will start off with a deck of 52 cards. The 52 cards will consist of 4 different suits: Clubs, Diamonds, Hearts and Spades. For each suit, there will be cards numbered 1 through 13. <br>\n",
    "**Note: No wildcards will be used in the program**\n",
    "\n",
    "`2. ` When the game begins, the dealer will shuffle the deck of cards, making them randomized. After the dealer shuffles, it will deal the player 2 cards and will deal itself 2 cards from. The Player should be able to see both of their own cards, but should only be able to see one of the Dealer's cards.\n",
    " \n",
    "`3. ` The objective of the game is for the Player to count their cards after they're dealt. If they're not satisfied with the number, they have the ability to 'Hit'. A hit allows the dealer to deal the Player one additional card. The Player can hit as many times as they'd like as long as they don't 'Bust'. A bust is when the Player is dealt cards that total more than 21.\n",
    "\n",
    "`4. ` If the dealer deals the Player cards equal to 21 on the **first** deal, the Player wins. This is referred to as Blackjack. Blackjack is **NOT** the same as getting cards that equal up to 21 after the first deal. Blackjack can only be attained on the first deal.\n",
    "\n",
    "`5. ` The Player will never see the Dealer's hand until the Player chooses to 'stand'. A Stand is when the player tells the dealer to not deal it anymore cards. Once the player chooses to Stand, the Player and the Dealer will compare their hands. Whoever has the higher number wins. Keep in mind that the Dealer can also bust. "
   ]
  },
  {
   "cell_type": "code",
   "execution_count": null,
   "metadata": {},
   "outputs": [
    {
     "name": "stdout",
     "output_type": "stream",
     "text": [
      "What is your name? c\n",
      "Welcome to That Annoying Wine Shop Casino, C!\n",
      "\n",
      "You have $100 on your account.\n",
      "\n",
      "How much would you like to bet, c? 1\n",
      "{1: [], 2: [], 3: [], 4: ['Hearts'], 5: [], 6: ['Diamonds'], 7: [], 8: [], 9: [], 10: [], 11: ['Spades'], 12: ['Spades', 'Clubs'], 13: []}\n",
      "\n",
      "['12 of Spades', '12 of Clubs']\n",
      "\n"
     ]
    }
   ],
   "source": [
    "# from random import randint, choice\n",
    "\n",
    "class BlackJack():\n",
    "\n",
    "    def __init__(self, name,deck = 48):\n",
    "        self.name = name\n",
    "        self.deck = deck\n",
    "        self.stand = 'off'\n",
    "        self.game = 'on'\n",
    "        self.blackjack = 'on'\n",
    "        self.card_numbers = [1,2,3,4,5,6,7,8,9,10,11,12,13]\n",
    "        self.card_suits = ['Clubs','Diamonds','Hearts','Spades']\n",
    "        self.cards_served = {1: [], 2: [], 3: [], 4: [], 5: [], 6: [], 7: [], 8: [], 9: [], 10: [], 11: [], 12: [], 13: []}\n",
    "        self.dealer = Dealer(0, 100, [])\n",
    "        self.user1 = Player(0, 100, [], name)\n",
    "        print(f'Welcome to That Annoying Wine Shop Casino, {self}!')\n",
    "        \n",
    "    def __str__(self):\n",
    "        return self.name.title()\n",
    "    \n",
    "    # -------------------- Checking the Game -------------------- #\n",
    "    \n",
    "    def check_blackjack(self):\n",
    "        if self.user1.hand == 21:\n",
    "            self.game = 'off'\n",
    "            print(f'BlackJack!')\n",
    "        else:\n",
    "            self.blackjack = 'off'\n",
    "            \n",
    "    def game_status(self):\n",
    "        if self.stand == 'off':\n",
    "            if self.user1.hand > 21:\n",
    "                print(f'Busted!')\n",
    "        else:\n",
    "            if self.user1.hand > self.dealer.hand:\n",
    "                print(f'Congrats, {self}! You won this round.')\n",
    "                self.user1.money += bet\n",
    "            else:\n",
    "                print(f'You lost this round, {self}.')           \n",
    "                      \n",
    "    # -------------------- Play -------------------- #\n",
    "            \n",
    "    def shuffle_cards(self):\n",
    "        number = randint(1,13)\n",
    "        suit = choice(self.card_suits)\n",
    "        \n",
    "        while suit in self.cards_served[number]:\n",
    "            number = randint(1,13)\n",
    "            suit = choice(self.card_suits)\n",
    "        self.cards_served[number].append(suit)\n",
    "        return number, suit\n",
    "\n",
    "    def deal_initial_cards(self, target):\n",
    "        tup = self.shuffle_cards()\n",
    "        if target == 'dealer':\n",
    "            self.dealer.deck.append(f'{tup[0]} of {tup[1]}')\n",
    "            self.dealer.hand += tup[0]\n",
    "        elif target == 'user1':\n",
    "            self.user1.deck.append(f'{tup[0]} of {tup[1]}')\n",
    "            self.user1.hand += tup[0]\n",
    "        \n",
    "    def deal_cards(self):\n",
    "        tup = self.shuffle_cards()\n",
    "        if self.stand == 'on':\n",
    "            self.dealer.hand += tup[0]\n",
    "            print('deal_cards to dealer')\n",
    "        else:\n",
    "            self.user1.hand += tup[0]\n",
    "            print(f'\\nYou got a {tup[0]} of {tup[1]}')\n",
    "            print(f'\\n{self.user1.hand}')\n",
    "        \n",
    "    def dealer_show(self):\n",
    "        self.stand = 'off'\n",
    "        print('dealer_show')\n",
    "\n",
    "class Dealer():\n",
    "\n",
    "    def __init__(self, hand, money, deck):\n",
    "        self.hand = hand\n",
    "        self.money = money\n",
    "        self.deck = deck\n",
    "    \n",
    "    def __str__(self):\n",
    "        return {f'The house\\'s hand is {self.hand}'}\n",
    "    \n",
    "    def __repr__(self):\n",
    "        return (f'< Dealer | {self.deck} >')\n",
    "    \n",
    "class Player(Dealer):\n",
    "    \n",
    "    def __init__(self,hand, money, deck, name):\n",
    "        super().__init__(hand,money,deck)\n",
    "        self.name = name\n",
    "        \n",
    "    def __str__(self, name):\n",
    "        return {f'Your hand is {self.hand}'}\n",
    "    \n",
    "    def __repr__(self):\n",
    "        return (f'< Player | {self.name} >')\n",
    "\n",
    "def main():\n",
    "# -------------------- Set up -------------------- #\n",
    "    name = input('What is your name? ')\n",
    "    \n",
    "    blackjack = BlackJack(name)\n",
    "\n",
    "    blackjack.deal_initial_cards('dealer')\n",
    "    blackjack.deal_initial_cards('dealer')\n",
    "    blackjack.deal_initial_cards('user1')\n",
    "    blackjack.deal_initial_cards('user1')\n",
    "    \n",
    "    while blackjack.game == 'on':\n",
    "# -------------------- Bet -------------------- #\n",
    "        print(f'\\nYou have ${blackjack.user1.money} on your account.')\n",
    "        bet = input(f'\\nHow much would you like to bet, {name}? ')\n",
    "        while not bet.isdigit() or int(bet) > blackjack.user1.money:\n",
    "            bet = input(f'Please, {name}, enter a valid number: ')\n",
    "        blackjack.user1.money -= int(bet)\n",
    "        blackjack.shuffle_cards()\n",
    "        print(blackjack.cards_served)\n",
    "        if blackjack.blackjack == 'on':\n",
    "            blackjack.check_blackjack()\n",
    "# -------------------- Actions -------------------- #\n",
    "        print(f'\\n Your hand is: {blackjack.user1.deck}\\n')\n",
    "        action = input('Would you like to \\\n",
    "        \\n\\t1. hit\\\n",
    "        \\n\\t2. stand\\\n",
    "        \\n\\t3. double down\\\n",
    "        \\n\\t4. Insurance\\\n",
    "        \\n\\t5. Split?: ').lower()\n",
    "        while action not in {'1','hit', '2', 'stand'}:\n",
    "            action = input('Select a valid option. So, hit or stand? ').lower()\n",
    "\n",
    "        if action == 'hit' or action == '1':\n",
    "            blackjack.deal_cards()\n",
    "        elif action == 'stand':\n",
    "            blackjack.stand = 'on'\n",
    "            blackjack.dealer_show()\n",
    "            while dealer.hand < 17:\n",
    "                blackjack.dearl_cards()\n",
    "        elif action == 'double':\n",
    "            pass\n",
    "        elif action == 'insurance':\n",
    "            pass\n",
    "        elif action == 'split':\n",
    "            pass\n",
    "        blackjack.game_status()\n",
    "\n",
    "main()"
   ]
  },
  {
   "cell_type": "code",
   "execution_count": null,
   "metadata": {},
   "outputs": [],
   "source": []
  },
  {
   "cell_type": "code",
   "execution_count": 68,
   "metadata": {},
   "outputs": [
    {
     "name": "stdout",
     "output_type": "stream",
     "text": [
      "4\n",
      "Diamonds\n"
     ]
    }
   ],
   "source": [
    "from random import randint, choice\n",
    "\n",
    "r1 = randint(1,15)\n",
    "\n",
    "print(r1)\n",
    "\n",
    "card_suits = ['Clubs','Diamonds','Hearts','Spades']\n",
    "\n",
    "print(choice(card_suits))"
   ]
  },
  {
   "cell_type": "code",
   "execution_count": 18,
   "metadata": {},
   "outputs": [
    {
     "name": "stdout",
     "output_type": "stream",
     "text": [
      "Welcome to That Annoying Wine Shop Casino, <__main__.BlackJack object at 0x7fae0f4ea230>!\n",
      "{'Ace': [], 2: [], 3: [], 4: [], 5: [], 6: [], 7: [], 8: [], 9: [], 10: [], 'Jack': [], 'Queen': [], 'King': []}\n",
      "{'Ace': [], 2: ['Clubs', 'Suits'], 3: [], 4: [], 5: [], 6: [], 7: [], 8: [], 9: [], 10: [], 'Jack': [], 'Queen': [], 'King': []}\n"
     ]
    }
   ],
   "source": [
    "class BlackJack():\n",
    "\n",
    "    def __init__(self, name,deck = 52):\n",
    "        self.name = name\n",
    "        self.deck = deck\n",
    "        self.stand = 'on'\n",
    "        self.card_numbers = [1,2,3,4,5,6,7,8,9,10,11,12,13]\n",
    "        self.card_suits = ['Clubs','Diamonds','Hearts','Spades']\n",
    "        self.cards_served = {'Ace': [], 2: [], 3: [], 4: [], 5: [], 6: [], 7: [], 8: [], 9: [], 10: [], 'Jack': [], 'Queen': [], 'King': []}\n",
    "        print(f'Welcome to That Annoying Wine Shop Casino, {self}!')\n",
    "        \n",
    "blackjack = BlackJack('Carlos')\n",
    "print(blackjack.cards_served)\n",
    "blackjack.cards_served[2].append('Clubs')\n",
    "blackjack.cards_served[2].append('Suits')\n",
    "\n",
    "print(blackjack.cards_served)"
   ]
  },
  {
   "cell_type": "code",
   "execution_count": 25,
   "metadata": {},
   "outputs": [
    {
     "name": "stdout",
     "output_type": "stream",
     "text": [
      "False\n"
     ]
    }
   ],
   "source": [
    "cards_served = {'Ace': [], 2: ['Spades', 'Hearts'], 3: [], 4: [], 5: [], 6: [], 7: [], \\\n",
    "                     8: [], 9: [], 10: [], 'Jack': [], 'Queen': [], 'King': []}\n",
    "\n",
    "print('Clubs' in cards_served[2])"
   ]
  },
  {
   "cell_type": "code",
   "execution_count": 110,
   "metadata": {},
   "outputs": [
    {
     "name": "stdout",
     "output_type": "stream",
     "text": [
      "<class 'tuple'>\n"
     ]
    }
   ],
   "source": [
    "def shuffle_cards():\n",
    "    number = randint(1,13)\n",
    "    suit = choice(card_suits)\n",
    "    return number, suit\n",
    "\n",
    "print(type(shuffle_cards()))"
   ]
  }
 ],
 "metadata": {
  "kernelspec": {
   "display_name": "Python 3 (ipykernel)",
   "language": "python",
   "name": "python3"
  },
  "language_info": {
   "codemirror_mode": {
    "name": "ipython",
    "version": 3
   },
   "file_extension": ".py",
   "mimetype": "text/x-python",
   "name": "python",
   "nbconvert_exporter": "python",
   "pygments_lexer": "ipython3",
   "version": "3.10.9"
  }
 },
 "nbformat": 4,
 "nbformat_minor": 2
}
